{
 "cells": [
  {
   "cell_type": "markdown",
   "metadata": {},
   "source": [
    "# Hit energy of a MIP\n",
    "\n",
    "MIP = Minimum ionising particle = muon"
   ]
  },
  {
   "cell_type": "code",
   "execution_count": null,
   "metadata": {},
   "outputs": [],
   "source": [
    "import awkward as ak\n",
    "import matplotlib.pyplot as plt\n",
    "\n",
    "from local_config import get_triggered_hits"
   ]
  },
  {
   "cell_type": "code",
   "execution_count": null,
   "metadata": {},
   "outputs": [],
   "source": [
    "ev = get_triggered_hits(\" nhit_slab > 10 \")\n",
    "en = ev.hit_energy[(ev.hit_isHit == 1) & (ev.hit_isMasked == 0)]\n",
    "en = en[en < 200]\n",
    "en = en[en > -150]\n",
    "plt.hist(ak.flatten(en), bins=200)\n",
    "plt.yscale(\"linear\")"
   ]
  }
 ],
 "metadata": {
  "interpreter": {
   "hash": "372eb57fb21c97aebf9fdec94bfc0cd1c9bc29051445afc7ba1fee3856c8da6d"
  },
  "kernelspec": {
   "display_name": "Python 3.8.10 64-bit ('.venv': venv)",
   "name": "python3"
  },
  "language_info": {
   "codemirror_mode": {
    "name": "ipython",
    "version": 3
   },
   "file_extension": ".py",
   "mimetype": "text/x-python",
   "name": "python",
   "nbconvert_exporter": "python",
   "pygments_lexer": "ipython3",
   "version": "3.8.10"
  }
 },
 "nbformat": 4,
 "nbformat_minor": 2
}
