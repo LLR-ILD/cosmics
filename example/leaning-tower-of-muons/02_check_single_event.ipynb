{
 "cells": [
  {
   "cell_type": "markdown",
   "metadata": {},
   "source": [
    "# Check a single event\n",
    "\n",
    "Look into a single interesting event: Where did the missing hits go?"
   ]
  },
  {
   "cell_type": "code",
   "execution_count": null,
   "metadata": {},
   "outputs": [],
   "source": [
    "import numpy as np\n",
    "import pandas as pd\n",
    "import uproot\n",
    "\n",
    "from local_config import default_pos as pos\n",
    "from plotting.hit_plots import plot_slices, plotly_3d\n",
    "\n",
    "\n",
    "i_event = 622273\n",
    "delta = 3\n",
    "run_name = \"Run_ILC_08042020_cosmic_it15_Ascii_build\"\n",
    "raw_path = f\"data/raw/{run_name}.root\"\n",
    "b_cosmic = uproot.open(raw_path)\n",
    "tree = b_cosmic[\"ecal\"]\n",
    "events = tree.arrays(entry_start=i_event - delta - 1, entry_stop=i_event + delta)\n",
    "\n",
    "events[delta][[k for k in tree.keys() if not k.startswith(\"hit_\")]].to_list()"
   ]
  },
  {
   "cell_type": "code",
   "execution_count": null,
   "metadata": {},
   "outputs": [],
   "source": [
    "bcids = [\"prev_bcid\", \"bcid\", \"next_bcid\"]\n",
    "df = pd.DataFrame([[event[bc] for bc in bcids] for event in events], columns=bcids)\n",
    "df"
   ]
  },
  {
   "cell_type": "code",
   "execution_count": null,
   "metadata": {},
   "outputs": [],
   "source": [
    "def get_dim(i, clean_up=True):\n",
    "    def channel_remapping(dim):\n",
    "        # There seems to be an issue in some layers.\n",
    "        xy_mirrored = np.any([dim[\"z\"] == mir for mir in [0, 2, 4, 9, 10]], axis=0)\n",
    "        dim[\"x\"] = dim[\"x\"].copy()\n",
    "        dim[\"y\"] = dim[\"y\"].copy()\n",
    "        dim[\"x\"][xy_mirrored] *= -1\n",
    "        dim[\"y\"][xy_mirrored] *= -1\n",
    "        return dim\n",
    "\n",
    "    ev = events[i]\n",
    "    dim = {coord: ev[\"hit_\" + coord] for coord in \"xyz\"}\n",
    "    dim[\"e\"] = ev[\"hit_energy\"]\n",
    "    if clean_up:\n",
    "        mask = ev.hit_energy > 0\n",
    "        mask = mask & (ev.hit_isHit == 1)\n",
    "        for k, v in dim.items():\n",
    "            dim[k] = v[mask]\n",
    "    dim = {k: v.to_numpy() for k, v in dim.items()}\n",
    "    dim = channel_remapping(dim)\n",
    "    return dim\n",
    "\n",
    "\n",
    "clean_up = False\n",
    "for i in range(len(events)):\n",
    "    dim = get_dim(i, clean_up)\n",
    "    e_in_event = sum(abs(dim[\"e\"]))\n",
    "    print(f\"{i}: {e_in_event:.1f}\")\n",
    "    if e_in_event > 50:\n",
    "        plot_slices(pos, dim)\n",
    "plotly_3d(get_dim(len(events) // 2, clean_up))"
   ]
  },
  {
   "cell_type": "code",
   "execution_count": null,
   "metadata": {},
   "outputs": [],
   "source": [
    "import matplotlib.pyplot as plt\n",
    "\n",
    "\n",
    "def bins(x):\n",
    "    x_first = x[0] - (x[1] - x[0]) / 2\n",
    "    x_last = x[-1] + (x[-1] - x[-2]) / 2\n",
    "    x_mid = (x[1:] + x[:-1]) / 2\n",
    "    return np.concatenate(([x_first], x_mid, [x_last]))\n",
    "\n",
    "\n",
    "ev = events[len(events) // 2]\n",
    "for k in ev.fields:\n",
    "    if not k.startswith(\"hit_\"):\n",
    "        continue\n",
    "    plt.figure()\n",
    "    plt.title(k)\n",
    "    plt.hist2d(\n",
    "        ev.hit_x.to_numpy(),\n",
    "        ev.hit_y.to_numpy(),\n",
    "        weights=ev[k].to_numpy(),\n",
    "        bins=(bins(pos[\"x\"]), bins(pos[\"y\"])),\n",
    "        # norm=LogNorm(),\n",
    "    )"
   ]
  }
 ],
 "metadata": {
  "interpreter": {
   "hash": "372eb57fb21c97aebf9fdec94bfc0cd1c9bc29051445afc7ba1fee3856c8da6d"
  },
  "kernelspec": {
   "display_name": "Python 3.8.10 64-bit ('.venv': venv)",
   "name": "python3"
  },
  "language_info": {
   "codemirror_mode": {
    "name": "ipython",
    "version": 3
   },
   "file_extension": ".py",
   "mimetype": "text/x-python",
   "name": "python",
   "nbconvert_exporter": "python",
   "pygments_lexer": "ipython3",
   "version": "3.8.10"
  }
 },
 "nbformat": 4,
 "nbformat_minor": 2
}
