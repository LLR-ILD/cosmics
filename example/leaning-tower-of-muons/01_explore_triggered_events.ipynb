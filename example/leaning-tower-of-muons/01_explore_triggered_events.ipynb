{
 "cells": [
  {
   "cell_type": "markdown",
   "metadata": {},
   "source": [
    "# Explore triggered events"
   ]
  },
  {
   "cell_type": "code",
   "execution_count": null,
   "metadata": {},
   "outputs": [],
   "source": [
    "import os\n",
    "import sys\n",
    "\n",
    "import awkward as ak\n",
    "import matplotlib.pyplot as plt\n",
    "import numpy as np\n",
    "import plotly.io as pio\n",
    "import tqdm.notebook as tqdm\n",
    "\n",
    "from plotting.hit_plots import plot_slices, plot_3d, plotly_3d\n",
    "from line_from_planes import LineFromPlanes\n",
    "from local_config import get_triggered_hits, img_path\n",
    "\n",
    "\n",
    "pio.renderers.default = \"chromium\"  # You might want to change this."
   ]
  },
  {
   "cell_type": "code",
   "execution_count": null,
   "metadata": {},
   "outputs": [],
   "source": [
    "cut = \" nhit_slab > 10 \"\n",
    "min_valid_hits_in_event = 10"
   ]
  },
  {
   "cell_type": "code",
   "execution_count": null,
   "metadata": {},
   "outputs": [],
   "source": [
    "events_all = get_triggered_hits(cut)\n",
    "print(\"Hit vars:\", \", \".join([f for f in events_all.fields if f.startswith(\"hit_\")]))\n",
    "\n",
    "\n",
    "def trigger_str(is_triggered):\n",
    "    return (\n",
    "        f\"{sum(ak.sum(is_triggered, axis=1) > 0)} events \"\n",
    "        f\"with {ak.sum(is_triggered)} valid channel hits \"\n",
    "        f\"({len(is_triggered)} candidate events).\"\n",
    "    )\n",
    "\n",
    "\n",
    "is_triggered = (events_all.hit_isHit == 1) & (events_all.hit_isMasked == 0)\n",
    "print(cut + \": \\n\\t\" + trigger_str(is_triggered))\n",
    "is_triggered = is_triggered & (ak.sum(is_triggered, axis=1) >= min_valid_hits_in_event)\n",
    "print(f\"Additionally require >={min_valid_hits_in_event} valid channel hits: \")\n",
    "print(\"\\t\" + trigger_str(is_triggered))\n",
    "is_triggered = is_triggered & (events_all.hit_energy > 0)\n",
    "print(\"Only positive energy: \")\n",
    "print(\"\\t\" + trigger_str(is_triggered))\n",
    "\n",
    "events = events_all[ak.any(is_triggered, axis=1)]\n",
    "is_triggered = is_triggered[ak.any(is_triggered, axis=1)]\n",
    "x = events.hit_x[is_triggered]\n",
    "y = events.hit_y[is_triggered]\n",
    "z = events.hit_z[is_triggered]\n",
    "e = events.hit_energy[is_triggered]\n",
    "\n",
    "x_pos = np.array(sorted(set(ak.flatten(events.hit_x))))\n",
    "y_pos = np.array(sorted(set(ak.flatten(events.hit_y))))\n",
    "z_pos = np.array(sorted(set(ak.flatten(events.hit_z))))\n",
    "pos = {\"x\": x_pos, \"y\": y_pos, \"z\": z_pos}"
   ]
  },
  {
   "cell_type": "markdown",
   "metadata": {},
   "source": [
    "# Explore triggered events"
   ]
  },
  {
   "cell_type": "code",
   "execution_count": null,
   "metadata": {},
   "outputs": [],
   "source": [
    "def channel_remapping(dim):\n",
    "    # There seems to be an issue in some layers.\n",
    "    xy_mirrored = np.any([dim[\"z\"] == mir for mir in [0, 2, 4, 9, 10]], axis=0)\n",
    "    dim[\"x\"] = dim[\"x\"].copy()\n",
    "    dim[\"y\"] = dim[\"y\"].copy()\n",
    "    dim[\"x\"][xy_mirrored] *= -1\n",
    "    dim[\"y\"][xy_mirrored] *= -1\n",
    "    return dim\n",
    "\n",
    "\n",
    "def do_plotting(i, unmasked=False, remapping=False, only_slices=False):\n",
    "    if unmasked:\n",
    "        ev = events_all[events_all.event == events[i].event][0]\n",
    "        xyz_dict = dict(x=ev.hit_x, y=ev.hit_y, z=ev.hit_z, e=ev.hit_energy)\n",
    "        dim = {k: var.to_numpy() for k, var in xyz_dict.items()}\n",
    "        # Here, you can patch in some selection criteria.\n",
    "        # dim[\"e\"][dim[\"e\"] < 0] = 0\n",
    "        # dim[\"e\"][ev.hit_isMasked] = 0\n",
    "        postfix = f\"{i}_unmasked\"\n",
    "    else:\n",
    "        dim = {k: var[i].to_numpy() for k, var in dict(x=x, y=y, z=z, e=e).items()}\n",
    "        postfix = f\"{i}\"\n",
    "\n",
    "    if remapping:\n",
    "        dim = channel_remapping(dim)\n",
    "\n",
    "    fig_2d = plot_slices(pos, dim)\n",
    "    line = LineFromPlanes(dim)\n",
    "    line_points = line.get_line_points(pos)\n",
    "    for ax, (k1, k2) in zip(\n",
    "        fig_2d.get_axes()[:3], [(\"x\", \"y\"), (\"x\", \"z\"), (\"y\", \"z\")]\n",
    "    ):\n",
    "        ax.plot(line_points[k1], line_points[k2])\n",
    "    fig_2d.savefig(img_path / f\"2D_slices_{postfix}.png\", dpi=300)\n",
    "    fig_2d.suptitle(i)\n",
    "    if only_slices:\n",
    "        return\n",
    "\n",
    "    fig_3d = plot_3d(dim)\n",
    "    fig_3d.savefig(img_path / f\"3D_{i}.png\", dpi=300)\n",
    "\n",
    "    fig_plotly = plotly_3d(dim)\n",
    "    # Here we use that the x,y dimensions are similar.\n",
    "    dxy, dz = [np.linspace(pos[k][0], pos[k][-1], 5) for k in [\"x\", \"z\"]]\n",
    "    mesh_xy, mesh_z = np.meshgrid(dxy, dz)\n",
    "    dx = line.plane_form(line.res_x.x, mesh_z, mesh_xy)\n",
    "    dy = line.plane_form(line.res_y.x, mesh_z, mesh_xy)\n",
    "    fig_plotly.add_surface(x=mesh_xy, y=dy, z=mesh_z, name=\"plane 1\", opacity=0.2)\n",
    "    fig_plotly.add_surface(x=dx, y=mesh_xy, z=mesh_z, name=\"plane 2\", opacity=0.2)\n",
    "    pts = line.get_line_points(pos)\n",
    "    fig_plotly.add_scatter3d(\n",
    "        x=pts[\"x\"], y=pts[\"y\"], z=pts[\"z\"], name=\"line fit\", mode=\"lines\"\n",
    "    )\n",
    "    fig_plotly.update_layout(scene=dict(zaxis=dict(range=[pos[\"z\"][0], pos[\"z\"][-1]])))\n",
    "    fig_plotly.show()\n",
    "    fig_plotly.write_html(img_path / f\"3D_{postfix}.html\")\n",
    "\n",
    "    return fig_plotly"
   ]
  },
  {
   "cell_type": "code",
   "execution_count": null,
   "metadata": {},
   "outputs": [],
   "source": [
    "do_plotting(\n",
    "    24,\n",
    "    # unmasked=True,\n",
    "    remapping=True,\n",
    ")"
   ]
  },
  {
   "cell_type": "markdown",
   "metadata": {},
   "source": [
    "## Mass production of the 2D slice plots"
   ]
  },
  {
   "cell_type": "code",
   "execution_count": null,
   "metadata": {},
   "outputs": [],
   "source": [
    "sys.stdout = open(os.devnull, \"w\")\n",
    "for i in tqdm.trange(len(events)):\n",
    "    do_plotting(\n",
    "        i,\n",
    "        # unmasked=True,\n",
    "        remapping=True,\n",
    "        only_slices=True,\n",
    "    )\n",
    "    plt.close()\n",
    "sys.stdout = sys.__stdout__"
   ]
  }
 ],
 "metadata": {
  "interpreter": {
   "hash": "372eb57fb21c97aebf9fdec94bfc0cd1c9bc29051445afc7ba1fee3856c8da6d"
  },
  "kernelspec": {
   "display_name": "Python 3.8.10 64-bit ('.venv': venv)",
   "name": "python3"
  },
  "language_info": {
   "codemirror_mode": {
    "name": "ipython",
    "version": 3
   },
   "file_extension": ".py",
   "mimetype": "text/x-python",
   "name": "python",
   "nbconvert_exporter": "python",
   "pygments_lexer": "ipython3",
   "version": "3.8.10"
  }
 },
 "nbformat": 4,
 "nbformat_minor": 2
}
