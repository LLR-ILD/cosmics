{
 "cells": [
  {
   "cell_type": "markdown",
   "metadata": {},
   "source": [
    "# Explore on event level"
   ]
  },
  {
   "cell_type": "code",
   "execution_count": null,
   "metadata": {},
   "outputs": [],
   "source": [
    "import awkward as ak\n",
    "import uproot\n",
    "import matplotlib.pyplot as plt\n",
    "\n",
    "from local_config import raw_path, img_path\n",
    "from plotting.sum_energy_fit import SumEnergyFit\n",
    "\n",
    "print(f\"{ak.__version__=}\")\n",
    "print(f\"{uproot.__version__=}\")\n",
    "print(f\"Data file: {raw_path}\")"
   ]
  },
  {
   "cell_type": "code",
   "execution_count": null,
   "metadata": {},
   "outputs": [],
   "source": [
    "b_cosmic = uproot.open(raw_path)\n",
    "print(\"trees:\", b_cosmic.keys())\n",
    "tree = b_cosmic[\"ecal\"]\n",
    "print(len(tree))\n",
    "tree.show()"
   ]
  },
  {
   "cell_type": "markdown",
   "metadata": {},
   "source": [
    "## Event level info\n",
    "\n",
    "The following code would be preferable if we would not be loading\n",
    "the untriggered events afterwards anyways.\n",
    "\n",
    "```python\n",
    "events_triggered = tree.arrays(event_level_keys, cut=trigger, entry_stop=entry_stop)\n",
    "```"
   ]
  },
  {
   "cell_type": "code",
   "execution_count": null,
   "metadata": {},
   "outputs": [],
   "source": [
    "trigger = \"nhit_slab > 5\"\n",
    "entry_stop = -1  # Can be reduced for debugging.\n",
    "\n",
    "event_level_keys = [k for k in tree.keys() if not k.startswith(\"hit_\")]\n",
    "events_untriggered = tree.arrays(event_level_keys, entry_stop=entry_stop)\n",
    "events_triggered = events_untriggered[ak.numexpr.evaluate(trigger, events_untriggered)]"
   ]
  },
  {
   "cell_type": "code",
   "execution_count": null,
   "metadata": {},
   "outputs": [],
   "source": [
    "nrows = len(events_untriggered.fields) // 4 + 1\n",
    "fig, axs = plt.subplots(figsize=(12, 3 * nrows), ncols=4, nrows=nrows)\n",
    "fig.suptitle(f\"Event level info (trigger= {trigger})\")\n",
    "untriggered_kwargs = {\"label\": f\"all ({len(events_untriggered.event)})\"}\n",
    "triggered_kwargs = {\"label\": f\"triggered ({len(events_triggered.event)})\"}\n",
    "triggered_kwargs.update(dict(hatch=\"//\", edgecolor=\"k\", fill=False))\n",
    "for var, ax in zip(events_untriggered.fields, axs.flatten()):\n",
    "    if var[:4] in [\"sum_\", \"nhit\"]:\n",
    "        ax.set_yscale(\"log\")\n",
    "        density = False\n",
    "    else:\n",
    "        ax.set_ylabel(\"normalized\")\n",
    "        density = True\n",
    "    _, bins, _ = ax.hist(events_untriggered[var], density=density, **untriggered_kwargs)\n",
    "    ax.hist(events_triggered[var], bins=bins, density=density, **triggered_kwargs)\n",
    "    ax.set_title(var)\n",
    "axs.flatten()[0].legend()\n",
    "fig.tight_layout()\n",
    "fig.savefig(img_path / \"event_level_info.png\", dpi=300)"
   ]
  },
  {
   "cell_type": "code",
   "execution_count": null,
   "metadata": {},
   "outputs": [],
   "source": [
    "sef = SumEnergyFit(events_triggered)\n",
    "sef.fig.savefig(img_path / \"sum_energy.png\", dpi=300)"
   ]
  }
 ],
 "metadata": {
  "interpreter": {
   "hash": "372eb57fb21c97aebf9fdec94bfc0cd1c9bc29051445afc7ba1fee3856c8da6d"
  },
  "kernelspec": {
   "display_name": "Python 3.8.10 64-bit ('.venv': venv)",
   "name": "python3"
  },
  "language_info": {
   "codemirror_mode": {
    "name": "ipython",
    "version": 3
   },
   "file_extension": ".py",
   "mimetype": "text/x-python",
   "name": "python",
   "nbconvert_exporter": "python",
   "pygments_lexer": "ipython3",
   "version": "3.8.10"
  }
 },
 "nbformat": 4,
 "nbformat_minor": 2
}
