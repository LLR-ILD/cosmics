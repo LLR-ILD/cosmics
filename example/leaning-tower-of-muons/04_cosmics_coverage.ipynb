{
 "cells": [
  {
   "cell_type": "code",
   "execution_count": null,
   "metadata": {},
   "outputs": [],
   "source": [
    "from pathlib import Path\n",
    "\n",
    "import awkward as ak\n",
    "import matplotlib.colors as colors\n",
    "import matplotlib.pyplot as plt\n",
    "import numpy as np\n",
    "import tqdm.notebook as tqdm\n",
    "import uproot\n",
    "\n",
    "run_name = \"run_050016_10192021_21h49min_Ascii_build\"\n",
    "# run_name = \"build\"\n",
    "raw_path = Path(\"data/raw\") / f\"{run_name}.root\"\n",
    "img_path = Path(\"img/coverage\")\n",
    "img_path.mkdir(exist_ok=True, parents=True)\n",
    "\n",
    "\n",
    "b_cosmic = uproot.open(raw_path)\n",
    "print(\"trees:\", b_cosmic.keys())\n",
    "tree = b_cosmic[\"ecal\"]\n",
    "print(len(tree))\n",
    "tree.show()"
   ]
  },
  {
   "cell_type": "code",
   "execution_count": null,
   "metadata": {},
   "outputs": [],
   "source": [
    "x, y, z, is_hit, is_masked, is_commissioned = ak.unzip(\n",
    "    tree.arrays(filter_name=[\"hit_[xyz]\", \"hit_is*\"], entry_stop=1e6)\n",
    ")"
   ]
  },
  {
   "cell_type": "code",
   "execution_count": null,
   "metadata": {},
   "outputs": [],
   "source": [
    "tree.num_entries"
   ]
  },
  {
   "cell_type": "code",
   "execution_count": null,
   "metadata": {},
   "outputs": [],
   "source": [
    "n_layers = 15\n",
    "distance_layers_mm = 15\n",
    "\n",
    "xy_pos = np.linspace(3.8, 86.3, 16)\n",
    "xy = np.concatenate([-xy_pos[::-1], xy_pos])\n",
    "delta_xy = np.mean(xy_pos[1:] - xy_pos[:-1])\n",
    "xy_bins_pos = np.concatenate([[xy_pos[0] - delta_xy / 2], xy_pos + delta_xy / 2])\n",
    "xy_bins = np.concatenate([-xy_bins_pos[::-1], xy_bins_pos])\n",
    "\n",
    "layer_maps = {\n",
    "    i_z: np.zeros(2 * (len(xy) + 1,))\n",
    "    for i_z in distance_layers_mm * np.arange(n_layers)\n",
    "}\n",
    "layer_maps_is_hit = {\n",
    "    i_z: np.zeros(2 * (len(xy) + 1,))\n",
    "    for i_z in distance_layers_mm * np.arange(n_layers)\n",
    "}\n",
    "with tqdm.tqdm(unit=\"M events\", total=tree.num_entries / 1e6) as p_bar:\n",
    "    for batch in uproot.iterate(\n",
    "        tree, filter_name=[\"hit_[xyz]\", \"hit_isHit\"], step_size=\"10 MB\"\n",
    "    ):\n",
    "        x, y, z, is_hit = ak.unzip(batch)\n",
    "        for i_z in layer_maps:\n",
    "            layer_maps[i_z] += np.histogram2d(\n",
    "                *map(lambda v: ak.flatten(v[z == i_z]).to_numpy(), [x, y]), bins=xy_bins\n",
    "            )[0]\n",
    "            layer_maps_is_hit[i_z] += np.histogram2d(\n",
    "                *map(\n",
    "                    lambda v: ak.flatten(v[(z == i_z) & (is_hit == 1)]).to_numpy(),\n",
    "                    [x, y],\n",
    "                ),\n",
    "                bins=xy_bins,\n",
    "            )[0]\n",
    "        p_bar.update(len(z) / 1e6)"
   ]
  },
  {
   "cell_type": "code",
   "execution_count": null,
   "metadata": {},
   "outputs": [],
   "source": [
    "len(z)"
   ]
  },
  {
   "cell_type": "code",
   "execution_count": null,
   "metadata": {},
   "outputs": [],
   "source": [
    "def _my_format(val):\n",
    "    \"\"\"Enforce a format style with 5 digits maximum including the decimal dot.\"\"\"\n",
    "    if val < 1e2:\n",
    "        return f\"{val:.2f}\"\n",
    "    if val < 1e3:\n",
    "        return f\"{val:.1f}\"\n",
    "\n",
    "    if val < 1e6:\n",
    "        v_new, suffix = val / 1e3, \"k\"\n",
    "    elif val < 1e9:\n",
    "        v_new, suffix = val / 1e6, \"M\"\n",
    "    elif val < 1e12:\n",
    "        v_new, suffix = val / 1e9, \"B\"\n",
    "    else:\n",
    "        raise NotImplementedError(f\"Value is larger than forseen: {val}.\")\n",
    "\n",
    "    if v_new < 10:\n",
    "        return f\"{v_new:.2f}{suffix}\"\n",
    "    elif v_new < 100:\n",
    "        return f\"{v_new:.1f}{suffix}\"\n",
    "    else:\n",
    "        return f\"{v_new:.0f}{suffix}\"\n",
    "\n",
    "\n",
    "def hit_map(layer_counts, log_norm=False, with_numbers=True):\n",
    "    norm_type = colors.LogNorm if log_norm else colors.Normalize\n",
    "    max_counts = max(np.max(v) for v in layer_counts.values())\n",
    "    max_counts = 20000\n",
    "    norm = norm_type(vmin=0, vmax=max_counts)\n",
    "    fig, axs = plt.subplots(1 + (len(layer_counts) - 1) // 5, ncols=5, figsize=(15, 10))\n",
    "    for i, z in enumerate(layer_counts.values()):\n",
    "        ax = axs.flatten()[i]\n",
    "        ax.imshow(z.T, cmap=plt.get_cmap(\"Greens\"), norm=norm)\n",
    "        if with_numbers:\n",
    "            boxes = [(0, 8), (8, 16), (17, 25), (25, 33)]\n",
    "            for x_box in boxes:\n",
    "                for y_box in boxes:\n",
    "                    box_vals = z[x_box[0] : x_box[1], y_box[0] : y_box[1]]\n",
    "                    val = np.mean(box_vals)\n",
    "                    assert np.std(box_vals) == 0\n",
    "                    color = \"black\"\n",
    "                    if val > 0.7 * max_counts:\n",
    "                        color = \"white\"\n",
    "                    elif log_norm and np.log(val) > 0.7 * np.log(max_counts):\n",
    "                        color = \"white\"\n",
    "                    ax.text(\n",
    "                        np.mean(x_box),\n",
    "                        np.mean(y_box),\n",
    "                        _my_format(val),\n",
    "                        ha=\"center\",\n",
    "                        va=\"center\",\n",
    "                        color=color,\n",
    "                        fontsize=14,\n",
    "                    )\n",
    "        ax.set_title(f\"layer {i}\")\n",
    "        ax.set_xticks([])\n",
    "        ax.set_yticks([])\n",
    "    fig.tight_layout()\n",
    "    return fig\n",
    "\n",
    "\n",
    "for log_norm in [True, False]:\n",
    "    name = \"hit_map\"\n",
    "    if log_norm:\n",
    "        name += \"_log\"\n",
    "    fig = hit_map(layer_maps, log_norm=log_norm)\n",
    "    fig.savefig(img_path / f\"{name}.png\", dpi=300)\n",
    "    name += \"_isHit\"\n",
    "    fig = hit_map(layer_maps_is_hit, with_numbers=False, log_norm=log_norm)\n",
    "    fig.savefig(img_path / f\"{name}.png\", dpi=300)"
   ]
  },
  {
   "cell_type": "code",
   "execution_count": null,
   "metadata": {},
   "outputs": [],
   "source": [
    "counts = np.concatenate([v.flatten() for v in layer_maps_is_hit.values()])\n",
    "bins = np.concatenate(\n",
    "    [\n",
    "        np.arange(0, 10, 1),\n",
    "        np.exp(np.linspace(np.log(10), np.log(max(counts)), 100)),\n",
    "    ]\n",
    ")\n",
    "hist_data, _ = np.histogram(counts, density=True, bins=bins)"
   ]
  },
  {
   "cell_type": "code",
   "execution_count": null,
   "metadata": {},
   "outputs": [],
   "source": [
    "fig, axs = plt.subplots(nrows=2, ncols=2, sharex=\"col\", sharey=\"row\")\n",
    "bin_centers = (bins[1:] + bins[:-1]) / 2\n",
    "bin_widths = bins[1:] - bins[:-1]\n",
    "for is_log_x in [True, False]:\n",
    "    for is_log_y in [True, False]:\n",
    "        ax = axs[int(is_log_y), int(is_log_x)]\n",
    "        ax.bar(bin_centers, hist_data, width=bin_widths)\n",
    "        if is_log_x:\n",
    "            ax.set_xscale(\"log\")\n",
    "        else:\n",
    "            ax.set_xlim(0, 2000)\n",
    "        if is_log_y:\n",
    "            ax.set_yscale(\"log\")\n",
    "            ax.set_ylim((0.5 * min(hist_data[hist_data > 0]), 1.1 * max(hist_data)))\n",
    "        else:\n",
    "            ax.set_ylim(0, 0.003)\n",
    "        lam = np.mean(counts)\n",
    "        ax.plot(\n",
    "            bin_centers,\n",
    "            bin_widths / sum(bin_widths) / lam * np.exp(-bin_centers / lam),\n",
    "            ls=\":\",\n",
    "            color=\"black\",\n",
    "        )\n",
    "\n",
    "fig.suptitle(\n",
    "    f\"{100 * sum(counts == 0) / len(counts):.3g}% of cells were never hit\\n\"\n",
    "    f\"({int(sum(counts))} hits in {len(counts)} cells)\"\n",
    ")\n",
    "axs[1][0].set_xlabel(\"cell hits [linear, lower part]\")\n",
    "axs[1][1].set_xlabel(\"cell hits [log]\")\n",
    "axs[0][0].set_ylabel(\"[linear, lower part]\")\n",
    "axs[1][0].set_ylabel(\"cell hit density [log]\")\n",
    "fig.tight_layout()\n",
    "fig.savefig(img_path / \"cell_counts.png\", dpi=400)"
   ]
  },
  {
   "cell_type": "code",
   "execution_count": null,
   "metadata": {},
   "outputs": [],
   "source": [
    "plt.hist(counts, density=True, bins=np.exp(np.log(np.arange(1, max(counts), 20))))\n",
    "plt.title(\n",
    "    f\"{100 * sum(counts == 0) / len(counts):.3g}% of cells were never hit\\n({int(sum(counts))} hits in {len(counts)} cells)\"\n",
    ")\n",
    "plt.xscale(\"log\")"
   ]
  },
  {
   "cell_type": "code",
   "execution_count": null,
   "metadata": {},
   "outputs": [],
   "source": [
    "ak.mean(is_hit), ak.mean(is_masked), ak.mean(is_commissioned)"
   ]
  },
  {
   "cell_type": "code",
   "execution_count": null,
   "metadata": {},
   "outputs": [],
   "source": [
    "print(f\"{ak.count(is_hit):>10} all\")\n",
    "print(f\"{ak.sum(is_hit == 1):>10} is_hit\")\n",
    "print(f\"{ak.sum(is_masked == 1):>10} is_masked\")\n",
    "print(f\"{ak.sum(is_commissioned == 1):>10} is_commissioned\")"
   ]
  },
  {
   "cell_type": "code",
   "execution_count": null,
   "metadata": {},
   "outputs": [],
   "source": []
  }
 ],
 "metadata": {
  "interpreter": {
   "hash": "eb40938d6d47db53e7036141e5553a8c0421f93e49bad794bbd2cf94f3663a0c"
  },
  "kernelspec": {
   "display_name": "Python 3.8.10 64-bit ('.venv': venv)",
   "name": "python3"
  },
  "language_info": {
   "codemirror_mode": {
    "name": "ipython",
    "version": 3
   },
   "file_extension": ".py",
   "mimetype": "text/x-python",
   "name": "python",
   "nbconvert_exporter": "python",
   "pygments_lexer": "ipython3",
   "version": "3.8.10"
  }
 },
 "nbformat": 4,
 "nbformat_minor": 2
}
